{
 "cells": [
  {
   "cell_type": "code",
   "execution_count": null,
   "metadata": {},
   "outputs": [],
   "source": [
    "class Bank:\n",
    "    class Account_Holder:\n",
    "        def __init__(self,name,accno,money_added):\n",
    "            self.__name=name\n",
    "            self.__accno=accno\n",
    "            self.__balance=money_added\n",
    "        def getBalance():\n",
    "            return self.__balance\n",
    "        def setBalance(balance):\n",
    "            self.__balance=balance\n",
    "        def deposit(money):\n",
    "            self.__balance+=money\n",
    "        def withdraw(money):\n",
    "            if(money<=self.__balance):\n",
    "                self.__balance-=money\n",
    "                print(money,\"withdarw completed successfully\")\n",
    "            else:\n",
    "                print(\"Not enough Balance\")\n",
    "                print(\"Balance Amount is\",self__balance,\"But asks for\",money)\n",
    "    c1=Account_Holder(\"Ravi\",456745674567,1000)\n",
    "    c2=Account_Holder(\"Hari\",498798798798,5000)\n",
    "    c3=Account_Holder(\"Shabaz\",432143214321,6000)\n"
   ]
  },
  {
   "cell_type": "code",
   "execution_count": 6,
   "metadata": {},
   "outputs": [
    {
     "name": "stdout",
     "output_type": "stream",
     "text": [
      "Enter a range:5\n",
      "Enter name:ravi\n",
      "Enter name:siva\n",
      "Enter name:kumar\n",
      "Enter name:yadav\n",
      "Enter name:shabaz\n"
     ]
    }
   ],
   "source": [
    "with open('RawData/Names.csv','w') as f:\n",
    "    n=int(input(\"Enter a range:\"))\n",
    "    for  i in range(1,n+1):\n",
    "        name=input(\"Enter name:\")\n",
    "        f.write(name+',')"
   ]
  },
  {
   "cell_type": "code",
   "execution_count": 7,
   "metadata": {},
   "outputs": [
    {
     "name": "stdout",
     "output_type": "stream",
     "text": [
      "['_CHUNK_SIZE', '__class__', '__del__', '__delattr__', '__dict__', '__dir__', '__doc__', '__enter__', '__eq__', '__exit__', '__format__', '__ge__', '__getattribute__', '__gt__', '__hash__', '__init__', '__init_subclass__', '__iter__', '__le__', '__lt__', '__ne__', '__new__', '__next__', '__reduce__', '__reduce_ex__', '__repr__', '__setattr__', '__sizeof__', '__str__', '__subclasshook__', '_checkClosed', '_checkReadable', '_checkSeekable', '_checkWritable', '_finalizing', 'buffer', 'close', 'closed', 'detach', 'encoding', 'errors', 'fileno', 'flush', 'isatty', 'line_buffering', 'mode', 'name', 'newlines', 'read', 'readable', 'readline', 'readlines', 'reconfigure', 'seek', 'seekable', 'tell', 'truncate', 'writable', 'write', 'write_through', 'writelines']\n"
     ]
    }
   ],
   "source": [
    "print(dir(f))"
   ]
  },
  {
   "cell_type": "code",
   "execution_count": 12,
   "metadata": {},
   "outputs": [
    {
     "name": "stdout",
     "output_type": "stream",
     "text": [
      "['ravi,siva,kumar,yadav,shabaz,']\n"
     ]
    }
   ],
   "source": [
    "with open('Rawdata/Names.csv','r') as k:\n",
    "    print(k.readlines())"
   ]
  },
  {
   "cell_type": "code",
   "execution_count": 13,
   "metadata": {},
   "outputs": [
    {
     "name": "stdout",
     "output_type": "stream",
     "text": [
      "ravi,siva,kumar,yadav,shabaz,\n"
     ]
    }
   ],
   "source": [
    "with open('Rawdata/Names.csv','r') as k:\n",
    "    print(k.readline())"
   ]
  },
  {
   "cell_type": "code",
   "execution_count": 28,
   "metadata": {},
   "outputs": [
    {
     "name": "stdout",
     "output_type": "stream",
     "text": [
      "Enter a range:3\n",
      "Enter name:ravi\n",
      "Enter name:hari\n",
      "Enter name:shabaz\n"
     ]
    }
   ],
   "source": [
    "with open('RawData/Names.csv','w') as f:\n",
    "    n=int(input(\"Enter a range:\"))\n",
    "    for  i in range(1,n+1):\n",
    "        name=input(\"Enter name:\")\n",
    "        f.write(name+'\\n')"
   ]
  },
  {
   "cell_type": "code",
   "execution_count": 31,
   "metadata": {},
   "outputs": [
    {
     "name": "stdout",
     "output_type": "stream",
     "text": [
      "['ravi', 'hari', 'shabaz']\n"
     ]
    }
   ],
   "source": [
    "with open('RawData/Names.csv','r') as f:\n",
    "    s=f.readlines()\n",
    "    q=[]\n",
    "    for i in s:\n",
    "        q.append(i.split('\\n')[0])\n",
    "    print(q)"
   ]
  },
  {
   "cell_type": "code",
   "execution_count": 32,
   "metadata": {},
   "outputs": [
    {
     "name": "stdout",
     "output_type": "stream",
     "text": [
      "20\n"
     ]
    }
   ],
   "source": [
    "with open('Rawdata/input.text','w') as fw:\n",
    "    fw.write(input())"
   ]
  },
  {
   "cell_type": "code",
   "execution_count": 36,
   "metadata": {},
   "outputs": [],
   "source": [
    "with open('rawdata/input.text','r') as g:\n",
    "    f=g.readlines()\n",
    "    with open('Rawdata\\output.text','w') as wy:\n",
    "        wy.write(\"Entered number is {}\".format(f[0]))\n",
    "        x=[]\n",
    "        for i in range(1,int(f[0])+1):\n",
    "            if(i%2==0):\n",
    "                h=str(i)+','\n",
    "                x.append(h)\n",
    "        t=' '.join(x)\n",
    "        wy.write(\"\\nEven numbers in range {} is:{}\".format(f[0],t)) "
   ]
  },
  {
   "cell_type": "code",
   "execution_count": 37,
   "metadata": {},
   "outputs": [
    {
     "data": {
      "text/plain": [
       "66"
      ]
     },
     "execution_count": 37,
     "metadata": {},
     "output_type": "execute_result"
    }
   ],
   "source": [
    "attendance=open('rawdata/attendance.csv','w')\n",
    "attendance.write(\"Y18ACS511-SIVA SANKAR-BECB\"+','+'sivasankarmutte@gmail.com'+','+'4:30'+','+'6:30'+','+'120')"
   ]
  },
  {
   "cell_type": "code",
   "execution_count": 63,
   "metadata": {},
   "outputs": [],
   "source": [
    "fileptr=open('rawdata/attendance.csv','r')\n",
    "lines=fileptr.readlines()"
   ]
  },
  {
   "cell_type": "code",
   "execution_count": 64,
   "metadata": {},
   "outputs": [
    {
     "data": {
      "text/plain": [
       "['Y18ACS511-SIVA SANKAR-BECB',\n",
       " 'sivasankarmutte@gmail.com',\n",
       " '4:30',\n",
       " '6:30',\n",
       " '120']"
      ]
     },
     "execution_count": 64,
     "metadata": {},
     "output_type": "execute_result"
    }
   ],
   "source": [
    "for i in lines:\n",
    "    lines=i.split(',')\n",
    "lines"
   ]
  },
  {
   "cell_type": "code",
   "execution_count": 65,
   "metadata": {},
   "outputs": [
    {
     "data": {
      "text/plain": [
       "'Y18ACS511-SIVA SANKAR-BECB'"
      ]
     },
     "execution_count": 65,
     "metadata": {},
     "output_type": "execute_result"
    }
   ],
   "source": [
    "lines[0]"
   ]
  },
  {
   "cell_type": "code",
   "execution_count": 66,
   "metadata": {},
   "outputs": [
    {
     "data": {
      "text/plain": [
       "'Y18ACS511'"
      ]
     },
     "execution_count": 66,
     "metadata": {},
     "output_type": "execute_result"
    }
   ],
   "source": [
    "regdno=lines[0].split('-')[0]\n",
    "regdno"
   ]
  },
  {
   "cell_type": "code",
   "execution_count": 69,
   "metadata": {},
   "outputs": [],
   "source": [
    "time=lines[4]"
   ]
  },
  {
   "cell_type": "code",
   "execution_count": 70,
   "metadata": {},
   "outputs": [
    {
     "data": {
      "text/plain": [
       "'120'"
      ]
     },
     "execution_count": 70,
     "metadata": {},
     "output_type": "execute_result"
    }
   ],
   "source": [
    "time"
   ]
  },
  {
   "cell_type": "code",
   "execution_count": 84,
   "metadata": {},
   "outputs": [],
   "source": [
    "with open(\"rawdata/Output.csv\",'a') as file:\n",
    "    file.write(\"Regd No\"+','+'Time'+'\\n')\n",
    "    file.write(regdno+','+time)"
   ]
  },
  {
   "cell_type": "code",
   "execution_count": null,
   "metadata": {},
   "outputs": [],
   "source": []
  }
 ],
 "metadata": {
  "kernelspec": {
   "display_name": "Python 3",
   "language": "python",
   "name": "python3"
  },
  "language_info": {
   "codemirror_mode": {
    "name": "ipython",
    "version": 3
   },
   "file_extension": ".py",
   "mimetype": "text/x-python",
   "name": "python",
   "nbconvert_exporter": "python",
   "pygments_lexer": "ipython3",
   "version": "3.8.5"
  }
 },
 "nbformat": 4,
 "nbformat_minor": 4
}
