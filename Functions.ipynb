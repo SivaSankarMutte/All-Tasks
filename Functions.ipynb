{
 "cells": [
  {
   "cell_type": "code",
   "execution_count": 22,
   "metadata": {},
   "outputs": [
    {
     "name": "stdout",
     "output_type": "stream",
     "text": [
      "5\n",
      "34 89\n",
      "True\n",
      "1\n",
      "3026\n"
     ]
    }
   ],
   "source": [
    "def isPrime(n):\n",
    "    count=0\n",
    "    for i in range(2,n//2+1):\n",
    "        if(n%i==0):\n",
    "            count+=1\n",
    "            return False\n",
    "            break\n",
    "    return True\n",
    "\n",
    "def gcd(a,b):\n",
    "    smaller=b\n",
    "    if(a<b):\n",
    "        smaller=a\n",
    "    for i in range(smaller,0,-1):\n",
    "        if(a%i==0 and b%i==0):\n",
    "            gcd=i\n",
    "            break\n",
    "    return gcd\n",
    "\n",
    "def lcm(a,b):\n",
    "    bigger=a\n",
    "    if(b>a):\n",
    "        bigger=b\n",
    "    while(True):\n",
    "        if(bigger%a==0 and bigger%b==0):\n",
    "            return bigger\n",
    "        bigger+=1\n",
    "        \n",
    "\n",
    "\n",
    "n=int(input())\n",
    "a,b=list(map(int,input().split()))\n",
    "print(isPrime(n))\n",
    "print(gcd(a,b))\n",
    "print(lcm(a,b))\n"
   ]
  },
  {
   "cell_type": "code",
   "execution_count": 24,
   "metadata": {},
   "outputs": [
    {
     "name": "stdout",
     "output_type": "stream",
     "text": [
      "100\n",
      "EVEN [0, 2, 4, 6, 8, 10, 12, 14, 16, 18, 20, 22, 24, 26, 28, 30, 32, 34, 36, 38, 40, 42, 44, 46, 48, 50, 52, 54, 56, 58, 60, 62, 64, 66, 68, 70, 72, 74, 76, 78, 80, 82, 84, 86, 88, 90, 92, 94, 96, 98, 100]\n",
      "ODD [1, 3, 5, 7, 9, 11, 13, 15, 17, 19, 21, 23, 25, 27, 29, 31, 33, 35, 37, 39, 41, 43, 45, 47, 49, 51, 53, 55, 57, 59, 61, 63, 65, 67, 69, 71, 73, 75, 77, 79, 81, 83, 85, 87, 89, 91, 93, 95, 97, 99]\n"
     ]
    }
   ],
   "source": [
    "even=[]\n",
    "odd=[]\n",
    "def fun(n):\n",
    "    for i in range(n+1):\n",
    "        if(i%2==0):\n",
    "            even.append(i)\n",
    "        else:\n",
    "            odd.append(i)\n",
    "    print(\"EVEN\",even)\n",
    "    print(\"ODD\",odd)\n",
    "n=int(input())\n",
    "fun(n)"
   ]
  },
  {
   "cell_type": "code",
   "execution_count": 34,
   "metadata": {},
   "outputs": [
    {
     "name": "stdout",
     "output_type": "stream",
     "text": [
      "89\n",
      "[2, 3, 5, 7, 11, 13, 17, 19, 23, 29, 31, 37, 41, 43, 47, 53, 59, 61, 67, 71, 73, 79, 83, 89]\n"
     ]
    }
   ],
   "source": [
    "primesList=[]\n",
    "def primes(n):\n",
    "    global primesList\n",
    "    for i in range(2,n):\n",
    "        count=0\n",
    "        for j in range(2,i//2+1):\n",
    "            if(i%j==0):\n",
    "                count+=1\n",
    "        if(count==0):    \n",
    "            primesList.append(i)\n",
    "\n",
    "n=int(input())\n",
    "primes(n+1)\n",
    "print(primesList)"
   ]
  },
  {
   "cell_type": "code",
   "execution_count": 36,
   "metadata": {},
   "outputs": [
    {
     "name": "stdout",
     "output_type": "stream",
     "text": [
      "0\n",
      "100\n",
      "10\n",
      "0  10  20  30  40  50  60  70  80  90  "
     ]
    }
   ],
   "source": [
    "def skippingValues():\n",
    "    n=int(input())\n",
    "    m=int(input())\n",
    "    s=int(input())\n",
    "    for i in range(n,m,s):\n",
    "        print(i,end=\"  \")\n",
    "skippingValues()"
   ]
  },
  {
   "cell_type": "code",
   "execution_count": null,
   "metadata": {},
   "outputs": [],
   "source": [
    "count_repeated(i):\n",
    "    if i not in \n",
    "\n",
    "\n",
    "name='RAVINDRA'\n",
    "for i in name:\n",
    "    count_repeated(i,val)"
   ]
  },
  {
   "cell_type": "code",
   "execution_count": 42,
   "metadata": {},
   "outputs": [
    {
     "name": "stdout",
     "output_type": "stream",
     "text": [
      "98765445678987654\n",
      "Given number is: 98765445678987654\n",
      "Even numbers are: 8  6  4 4  6  8  8  6  4 \n",
      "Odd numbers are:9  7  5   5  7  9  7  5  "
     ]
    }
   ],
   "source": [
    "def evenDetector(i):\n",
    "    if(i%2==0):\n",
    "        return i\n",
    "    else:\n",
    "        return \"\"\n",
    "def oddDetector(i):\n",
    "    if(i%2!=0):\n",
    "        return i\n",
    "    else:\n",
    "        return \"\"\n",
    "n=int(input())\n",
    "print(\"Given number is:\",n)\n",
    "print(\"Even numbers are:\",end=\"\")\n",
    "for i in str(n):\n",
    "    i=int(i)\n",
    "    print(evenDetector(i),end=\" \")\n",
    "print(\"\\nOdd numbers are:\",end=\"\")\n",
    "for i in str(n):\n",
    "    i=int(i)\n",
    "    print(oddDetector(i),end=\" \")"
   ]
  },
  {
   "cell_type": "code",
   "execution_count": 87,
   "metadata": {},
   "outputs": [
    {
     "name": "stdout",
     "output_type": "stream",
     "text": [
      "987654\n",
      "Given number is: 987654\n",
      "Even Numbers are: 8 6 4\n",
      "Odd numbers are: 9 7 5\n",
      "Left half of even numbers are: 8\n",
      "Right half of even numbers are: 6 4\n",
      "Left half of Even number sum is: 8\n",
      "Right half of Even number sum is: 10\n"
     ]
    }
   ],
   "source": [
    "def fun(n):\n",
    "    print(\"Given number is:\",n)\n",
    "    l=len(str(n))\n",
    "    count=0\n",
    "    even=[]\n",
    "    odd=[]\n",
    "    leftEven=[]\n",
    "    rightEven=[]\n",
    "    while(n>0):\n",
    "        a=n%10\n",
    "        n=n//10\n",
    "        count+=1\n",
    "        if(a%2==0):\n",
    "            even.append(a)\n",
    "            if(count<=l//2):\n",
    "                rightEven.append(a)\n",
    "            else:\n",
    "                leftEven.append(a)\n",
    "        else:\n",
    "            odd.append(a)\n",
    "    print(\"Even Numbers are:\",*reversed(even))\n",
    "    print(\"Odd numbers are:\",*reversed(odd))\n",
    "    print(\"Left half of even numbers are:\",*reversed(leftEven))  \n",
    "    print(\"Right half of even numbers are:\",*reversed(rightEven))\n",
    "    print(\"Left half of Even number sum is:\",sum(leftEven))\n",
    "    print(\"Right half of Even number sum is:\",sum(rightEven))\n",
    "n=int(input())\n",
    "fun(n)"
   ]
  },
  {
   "cell_type": "code",
   "execution_count": 56,
   "metadata": {},
   "outputs": [
    {
     "name": "stdout",
     "output_type": "stream",
     "text": [
      "siva\n",
      "20\n",
      "Your name is: siva\n",
      "Your age is: 20\n"
     ]
    }
   ],
   "source": [
    "def student(n,a):\n",
    "    print(\"Your name is: {}\\nYour age is: {}\".format(n,a))\n",
    "name=input()\n",
    "age=int(input())\n",
    "student(a=age,n=name)"
   ]
  },
  {
   "cell_type": "code",
   "execution_count": 57,
   "metadata": {},
   "outputs": [
    {
     "name": "stdout",
     "output_type": "stream",
     "text": [
      "siva\n",
      "20\n",
      "Your name is: 20\n",
      "Your age is: siva\n"
     ]
    }
   ],
   "source": [
    "def student(n=name,a=age):\n",
    "    print(\"Your name is: {}\\nYour age is: {}\".format(n,a))\n",
    "name=input()\n",
    "age=int(input())\n",
    "student(age,name)"
   ]
  },
  {
   "cell_type": "code",
   "execution_count": 64,
   "metadata": {},
   "outputs": [
    {
     "name": "stdout",
     "output_type": "stream",
     "text": [
      "511\n",
      "\n",
      "Your college is: \n",
      "Your year is:511\n"
     ]
    }
   ],
   "source": [
    "def college(y,c=\"BEC\"):\n",
    "    print(\"Your college is: {}\\nYour year is:{}\".format(cname,year))\n",
    "year=int(input())\n",
    "cname=input()\n",
    "college(c=cname,y=year)"
   ]
  },
  {
   "cell_type": "markdown",
   "metadata": {},
   "source": [
    "Variable length Arguments"
   ]
  },
  {
   "cell_type": "code",
   "execution_count": 73,
   "metadata": {},
   "outputs": [
    {
     "name": "stdout",
     "output_type": "stream",
     "text": [
      "Name is: Siva\n",
      "Marks Avg is: 83.5\n"
     ]
    }
   ],
   "source": [
    "def number(n,*p):\n",
    "    print(\"Name is:\",n)\n",
    "    print(\"Marks Avg is:\",sum(p)/len(p))\n",
    "number(\"Siva\",90,89,78,86,75,83)"
   ]
  },
  {
   "cell_type": "markdown",
   "metadata": {},
   "source": [
    "## Default Arguments"
   ]
  },
  {
   "cell_type": "code",
   "execution_count": 67,
   "metadata": {},
   "outputs": [
    {
     "name": "stdout",
     "output_type": "stream",
     "text": [
      "Welcome to our BEC, SIVA\n",
      "Welcome to our KLU, RAVI\n"
     ]
    }
   ],
   "source": [
    "def fun(name,college=\"BEC\"):\n",
    "    print(\"Welcome to our {}, {}\".format(college,name))\n",
    "fun(\"SIVA\")\n",
    "fun(\"RAVI\",\"KLU\")"
   ]
  },
  {
   "cell_type": "code",
   "execution_count": null,
   "metadata": {},
   "outputs": [],
   "source": [
    "def  "
   ]
  }
 ],
 "metadata": {
  "kernelspec": {
   "display_name": "Python 3",
   "language": "python",
   "name": "python3"
  },
  "language_info": {
   "codemirror_mode": {
    "name": "ipython",
    "version": 3
   },
   "file_extension": ".py",
   "mimetype": "text/x-python",
   "name": "python",
   "nbconvert_exporter": "python",
   "pygments_lexer": "ipython3",
   "version": "3.8.5"
  }
 },
 "nbformat": 4,
 "nbformat_minor": 4
}
