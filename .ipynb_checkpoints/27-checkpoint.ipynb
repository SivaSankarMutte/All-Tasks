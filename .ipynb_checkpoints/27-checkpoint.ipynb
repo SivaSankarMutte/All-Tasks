{
 "cells": [
  {
   "cell_type": "code",
   "execution_count": 9,
   "metadata": {},
   "outputs": [
    {
     "name": "stdout",
     "output_type": "stream",
     "text": [
      "01 02 03 04 05 06 07 \n",
      "08 09 10 11 12 13 14 \n",
      "15 16 17 18 19 20 21 \n",
      "22 23 24 25 26 27 28 \n",
      "29 30 31 \n"
     ]
    }
   ],
   "source": [
    "n=1\n",
    "for i in range(5):\n",
    "    for j in range(7):\n",
    "        if(n<=9):\n",
    "            print('0'+str(n),end=\" \")\n",
    "        else:\n",
    "            print(n,end=\" \")\n",
    "        n=n+1     \n",
    "        if(n>=32):\n",
    "            break\n",
    "    print()"
   ]
  },
  {
   "cell_type": "code",
   "execution_count": 47,
   "metadata": {},
   "outputs": [
    {
     "name": "stdout",
     "output_type": "stream",
     "text": [
      "01 02 03 04 05 06 07 \n",
      "08 09 10 11 12 13 14 \n",
      "15 16 17 18 19 20 21 \n",
      "22 23 24 25 26 27 28 \n",
      "29 30 31 \n"
     ]
    }
   ],
   "source": [
    "n=1\n",
    "for i in range(5):\n",
    "    for j in range(7):\n",
    "        if(n<=31):\n",
    "            print(\"{:02}\".format(n),end=\" \")\n",
    "            n+=1\n",
    "        else:\n",
    "            break\n",
    "    print()"
   ]
  },
  {
   "cell_type": "code",
   "execution_count": 21,
   "metadata": {},
   "outputs": [
    {
     "name": "stdout",
     "output_type": "stream",
     "text": [
      "01 ** 03 ** 05 ** 07 \n",
      "** 09 ** 11 ** 13 ** \n",
      "15 ** 17 ** 19 ** 21 \n",
      "** 23 ** 25 ** 27 ** \n",
      "29 ** 31 \n"
     ]
    }
   ],
   "source": [
    "n=1\n",
    "for i in range(5):\n",
    "    for j in range(7):\n",
    "        if(n<=31):\n",
    "            if(n%2==0):\n",
    "                print(\"**\",end=\" \")\n",
    "                n+=1\n",
    "            else:\n",
    "                print(\"{:02}\".format(n),end=\" \")\n",
    "                n+=1\n",
    "        else:\n",
    "            break\n",
    "    print()"
   ]
  },
  {
   "cell_type": "code",
   "execution_count": 24,
   "metadata": {},
   "outputs": [
    {
     "name": "stdout",
     "output_type": "stream",
     "text": [
      "01 02 03 04 05 06 07 \n",
      "08 09 ** 11 12 13 14 \n",
      "15 16 17 18 19 ** 21 \n",
      "22 23 24 25 26 27 28 \n",
      "29 ** 31 \n"
     ]
    }
   ],
   "source": [
    "n=1\n",
    "for i in range(5):\n",
    "    for j in range(7):\n",
    "        if(n<=31):\n",
    "            if(n%10==0):\n",
    "                print(\"**\",end=\" \")\n",
    "                n+=1\n",
    "            else:\n",
    "                print(\"{:02}\".format(n),end=\" \")\n",
    "                n+=1\n",
    "        else:\n",
    "            break\n",
    "    print()"
   ]
  },
  {
   "cell_type": "code",
   "execution_count": 40,
   "metadata": {},
   "outputs": [
    {
     "name": "stdout",
     "output_type": "stream",
     "text": [
      "## ** ## || && ** ## \n",
      "** ## && || ** ## ** \n",
      "$$ && ** ## || ## && ## \n",
      "** ## ** || ** ## ** \n",
      "## && ## \n"
     ]
    }
   ],
   "source": [
    "n=1\n",
    "for i in range(5):\n",
    "    if(i==2):\n",
    "        print(\"$$\",end=\" \")\n",
    "    for j in range(7):\n",
    "        if(n<=31):\n",
    "            if(j==3):\n",
    "                print(\"||\",end=\" \")\n",
    "            elif(n%5==0):\n",
    "                print(\"&&\",end=\" \")\n",
    "            elif(n%2==0):\n",
    "                print(\"**\",end=\" \")\n",
    "            elif(n%2!=0):\n",
    "                print(\"##\",end=\" \")\n",
    "            else:\n",
    "                print(\"{:02}\".format(n),end=\" \")\n",
    "        else:\n",
    "            break\n",
    "        n+=1\n",
    "    print()"
   ]
  },
  {
   "cell_type": "code",
   "execution_count": null,
   "metadata": {},
   "outputs": [],
   "source": []
  }
 ],
 "metadata": {
  "kernelspec": {
   "display_name": "Python 3",
   "language": "python",
   "name": "python3"
  },
  "language_info": {
   "codemirror_mode": {
    "name": "ipython",
    "version": 3
   },
   "file_extension": ".py",
   "mimetype": "text/x-python",
   "name": "python",
   "nbconvert_exporter": "python",
   "pygments_lexer": "ipython3",
   "version": "3.8.5"
  }
 },
 "nbformat": 4,
 "nbformat_minor": 4
}
